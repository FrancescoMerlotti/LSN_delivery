{
 "cells": [
  {
   "cell_type": "markdown",
   "id": "7bdc61c3",
   "metadata": {},
   "source": [
    "# Exercise 11.2\n",
    "\n",
    "### Introduction\n",
    "The purpose of this second exercise is to develope the first **Deep Neural Network**, and use different optimizers and losses, in order to find the best to fit a new dataset.\n",
    "\n",
    "### Dataset\n",
    "The set is made of 5200 points, their *x* is uniformly generated in $[-1, 1)$, while *y* is calculated using the following third order polynomial\n",
    "\n",
    "$$\n",
    "y = 4 - 3 x - 2 x^2 + 3 x^3\n",
    "$$\n",
    "\n",
    "This time a Gaussian noise is applied onto the ordinates, with a certain $\\sigma$, in order to avoid overfitting, if this effect does not occur, the noise can be rmoved by setting it to zero.\n",
    "\n",
    "5000 points compose the training set, and the other 200 points are the validation set.\n",
    "\n",
    "### Neural Network\n",
    "The neural network is sequential, made of three layers of relu activated neurons: the first one is made of 50 neurons, the second one is made of 100 neurons, in order to increase the representativeness, and a final layer made of only one neuron, to provide the expected output of just one value. As optimizer has been chosen the **Adam**, and as loss measure has been chosen the **mean squared logarithmic error**.\n",
    "\n",
    "The network has been trained for 50 epochs, dividing the training set into batch of 20 elements each, and shuffling the set at the end of every epoch"
   ]
  },
  {
   "cell_type": "code",
   "execution_count": 1,
   "id": "84431657",
   "metadata": {},
   "outputs": [
    {
     "name": "stdout",
     "output_type": "stream",
     "text": [
      "Model: \"sequential\"\n",
      "_________________________________________________________________\n",
      "Layer (type)                 Output Shape              Param #   \n",
      "=================================================================\n",
      "dense (Dense)                (None, 50)                100       \n",
      "_________________________________________________________________\n",
      "dense_1 (Dense)              (None, 100)               5100      \n",
      "_________________________________________________________________\n",
      "dense_2 (Dense)              (None, 1)                 101       \n",
      "=================================================================\n",
      "Total params: 5,301\n",
      "Trainable params: 5,301\n",
      "Non-trainable params: 0\n",
      "_________________________________________________________________\n"
     ]
    }
   ],
   "source": [
    "import numpy as np\n",
    "import matplotlib.pyplot as plt\n",
    "import tensorflow\n",
    "from tensorflow import keras\n",
    "\n",
    "from tensorflow.keras.models import Sequential\n",
    "from tensorflow.keras.layers import Dense, Activation\n",
    "\n",
    "# Cubic function to fit\n",
    "def f(x):\n",
    "    return 4 - 3 * x - 2 * x**2 + 3 * x**3\n",
    "\n",
    "xlim = 1.\n",
    "# Fixing the training, validation & fitting parameters\n",
    "# Training\n",
    "ntrain = 5000\n",
    "sigma = 0.1     # Noise\n",
    "# Validation\n",
    "nvalid = 200\n",
    "# Fitting\n",
    "bsize = 20\n",
    "nepoc = 50\n",
    "# Fixing Neural Network parameters\n",
    "# Number of hidden neurons per layer\n",
    "nhn1 = 50\n",
    "nhn2 = 100\n",
    "\n",
    "# Generation of training and validation points\n",
    "np.random.seed(10)\n",
    "x_t = np.random.uniform(-xlim, xlim, ntrain)\n",
    "x_v = np.random.uniform(-xlim, xlim, nvalid)\n",
    "x_v.sort()\n",
    "y_t = np.random.normal(f(x_t), sigma)\n",
    "y_v = np.random.normal(f(x_v), sigma)\n",
    "# Ideal linear function (for comparison)\n",
    "y_c = f(x_v)\n",
    "\n",
    "# Neural network setup\n",
    "model = Sequential()\n",
    "model.add(Dense(nhn1, input_shape=(1,), activation=\"relu\"))\n",
    "model.add(Dense(nhn2, activation=\"relu\"))\n",
    "model.add(Dense(1, activation=\"relu\"))\n",
    "# Neural network compile\n",
    "model.compile(optimizer=\"adam\", loss=\"mean_squared_logarithmic_error\")\n",
    "model.summary()"
   ]
  },
  {
   "cell_type": "code",
   "execution_count": 2,
   "id": "e12a5005",
   "metadata": {},
   "outputs": [
    {
     "name": "stdout",
     "output_type": "stream",
     "text": [
      "Epoch 1/50\n",
      "250/250 [==============================] - 1s 1ms/step - loss: 0.2878 - val_loss: 0.0349\n",
      "Epoch 2/50\n",
      "250/250 [==============================] - 0s 727us/step - loss: 0.0278 - val_loss: 0.0110\n",
      "Epoch 3/50\n",
      "250/250 [==============================] - 0s 731us/step - loss: 0.0086 - val_loss: 0.0031\n",
      "Epoch 4/50\n",
      "250/250 [==============================] - 0s 763us/step - loss: 0.0029 - val_loss: 0.0015\n",
      "Epoch 5/50\n",
      "250/250 [==============================] - 0s 719us/step - loss: 0.0015 - val_loss: 0.0010\n",
      "Epoch 6/50\n",
      "250/250 [==============================] - 0s 711us/step - loss: 0.0011 - val_loss: 0.0010\n",
      "Epoch 7/50\n",
      "250/250 [==============================] - 0s 691us/step - loss: 9.2818e-04 - val_loss: 9.6754e-04\n",
      "Epoch 8/50\n",
      "250/250 [==============================] - 0s 675us/step - loss: 8.8097e-04 - val_loss: 8.5647e-04\n",
      "Epoch 9/50\n",
      "250/250 [==============================] - 0s 683us/step - loss: 8.2058e-04 - val_loss: 7.7982e-04\n",
      "Epoch 10/50\n",
      "250/250 [==============================] - 0s 683us/step - loss: 8.0560e-04 - val_loss: 7.4804e-04\n",
      "Epoch 11/50\n",
      "250/250 [==============================] - 0s 691us/step - loss: 7.9067e-04 - val_loss: 8.0691e-04\n",
      "Epoch 12/50\n",
      "250/250 [==============================] - 0s 711us/step - loss: 7.6989e-04 - val_loss: 7.9801e-04\n",
      "Epoch 13/50\n",
      "250/250 [==============================] - 0s 695us/step - loss: 7.5109e-04 - val_loss: 8.4696e-04\n",
      "Epoch 14/50\n",
      "250/250 [==============================] - 0s 687us/step - loss: 7.8375e-04 - val_loss: 8.6798e-04\n",
      "Epoch 15/50\n",
      "250/250 [==============================] - 0s 691us/step - loss: 7.6632e-04 - val_loss: 7.0265e-04\n",
      "Epoch 16/50\n",
      "250/250 [==============================] - 0s 687us/step - loss: 7.7312e-04 - val_loss: 7.7276e-04\n",
      "Epoch 17/50\n",
      "250/250 [==============================] - 0s 679us/step - loss: 7.6016e-04 - val_loss: 8.0028e-04\n",
      "Epoch 18/50\n",
      "250/250 [==============================] - 0s 683us/step - loss: 7.6944e-04 - val_loss: 7.4674e-04\n",
      "Epoch 19/50\n",
      "250/250 [==============================] - 0s 679us/step - loss: 7.7072e-04 - val_loss: 8.3703e-04\n",
      "Epoch 20/50\n",
      "250/250 [==============================] - 0s 695us/step - loss: 7.9557e-04 - val_loss: 8.2708e-04\n",
      "Epoch 21/50\n",
      "250/250 [==============================] - 0s 691us/step - loss: 7.8031e-04 - val_loss: 7.9149e-04\n",
      "Epoch 22/50\n",
      "250/250 [==============================] - 0s 683us/step - loss: 8.0266e-04 - val_loss: 8.4035e-04\n",
      "Epoch 23/50\n",
      "250/250 [==============================] - 0s 683us/step - loss: 7.6600e-04 - val_loss: 7.4179e-04\n",
      "Epoch 24/50\n",
      "250/250 [==============================] - 0s 683us/step - loss: 7.6907e-04 - val_loss: 7.2149e-04\n",
      "Epoch 25/50\n",
      "250/250 [==============================] - 0s 707us/step - loss: 7.3369e-04 - val_loss: 7.8009e-04\n",
      "Epoch 26/50\n",
      "250/250 [==============================] - 0s 687us/step - loss: 7.4418e-04 - val_loss: 6.8316e-04\n",
      "Epoch 27/50\n",
      "250/250 [==============================] - 0s 695us/step - loss: 7.6950e-04 - val_loss: 7.3928e-04\n",
      "Epoch 28/50\n",
      "250/250 [==============================] - 0s 711us/step - loss: 7.7793e-04 - val_loss: 7.2963e-04\n",
      "Epoch 29/50\n",
      "250/250 [==============================] - 0s 715us/step - loss: 7.5838e-04 - val_loss: 8.1528e-04\n",
      "Epoch 30/50\n",
      "250/250 [==============================] - 0s 715us/step - loss: 7.9557e-04 - val_loss: 6.9092e-04\n",
      "Epoch 31/50\n",
      "250/250 [==============================] - 0s 727us/step - loss: 7.9850e-04 - val_loss: 7.4572e-04\n",
      "Epoch 32/50\n",
      "250/250 [==============================] - 0s 727us/step - loss: 7.6957e-04 - val_loss: 8.5503e-04\n",
      "Epoch 33/50\n",
      "250/250 [==============================] - 0s 719us/step - loss: 7.9186e-04 - val_loss: 8.2998e-04\n",
      "Epoch 34/50\n",
      "250/250 [==============================] - 0s 719us/step - loss: 7.7533e-04 - val_loss: 0.0014\n",
      "Epoch 35/50\n",
      "250/250 [==============================] - 0s 719us/step - loss: 8.1028e-04 - val_loss: 7.0721e-04\n",
      "Epoch 36/50\n",
      "250/250 [==============================] - 0s 711us/step - loss: 8.0526e-04 - val_loss: 6.8195e-04\n",
      "Epoch 37/50\n",
      "250/250 [==============================] - 0s 711us/step - loss: 7.7747e-04 - val_loss: 6.9989e-04\n",
      "Epoch 38/50\n",
      "250/250 [==============================] - 0s 743us/step - loss: 7.6604e-04 - val_loss: 7.1959e-04\n",
      "Epoch 39/50\n",
      "250/250 [==============================] - 0s 703us/step - loss: 7.8467e-04 - val_loss: 9.0105e-04\n",
      "Epoch 40/50\n",
      "250/250 [==============================] - 0s 723us/step - loss: 7.9822e-04 - val_loss: 7.8737e-04\n",
      "Epoch 41/50\n",
      "250/250 [==============================] - 0s 723us/step - loss: 7.5326e-04 - val_loss: 7.1581e-04\n",
      "Epoch 42/50\n",
      "250/250 [==============================] - 0s 707us/step - loss: 8.0453e-04 - val_loss: 7.7039e-04\n",
      "Epoch 43/50\n",
      "250/250 [==============================] - 0s 715us/step - loss: 7.2179e-04 - val_loss: 8.1342e-04\n",
      "Epoch 44/50\n",
      "250/250 [==============================] - 0s 695us/step - loss: 7.6732e-04 - val_loss: 7.3907e-04\n",
      "Epoch 45/50\n",
      "250/250 [==============================] - 0s 707us/step - loss: 7.8419e-04 - val_loss: 9.4841e-04\n",
      "Epoch 46/50\n",
      "250/250 [==============================] - 0s 719us/step - loss: 7.9404e-04 - val_loss: 7.4201e-04\n",
      "Epoch 47/50\n",
      "250/250 [==============================] - 0s 711us/step - loss: 7.5376e-04 - val_loss: 7.1886e-04\n",
      "Epoch 48/50\n",
      "250/250 [==============================] - 0s 715us/step - loss: 7.2340e-04 - val_loss: 7.1410e-04\n",
      "Epoch 49/50\n",
      "250/250 [==============================] - 0s 711us/step - loss: 7.8738e-04 - val_loss: 7.0200e-04\n",
      "Epoch 50/50\n",
      "250/250 [==============================] - 0s 711us/step - loss: 7.3308e-04 - val_loss: 7.8795e-04\n"
     ]
    }
   ],
   "source": [
    "# Fit the model (trainig dataset)\n",
    "history = model.fit(x=x_t, y=y_t, batch_size=bsize,\n",
    "                    epochs=nepoc, verbose=1, shuffle=True, validation_data=(x_v, y_v))"
   ]
  },
  {
   "cell_type": "markdown",
   "id": "7318efd2",
   "metadata": {},
   "source": [
    "### Results\n",
    "The plot below shows the trend of the losses of the training and validation set in function of the epochs. More epochs can be performed, but the result does not improve anymore, then it is important to save resources."
   ]
  },
  {
   "cell_type": "code",
   "execution_count": 3,
   "id": "5efe9b7c",
   "metadata": {},
   "outputs": [
    {
     "name": "stdout",
     "output_type": "stream",
     "text": [
      "\n",
      "Test loss (validation) = 0.0007879477925598621\n",
      "\n",
      "Test loss (comparison) = 0.00013349179062061012\n"
     ]
    },
    {
     "data": {
      "image/png": "[encoded data removed]",
      "text/plain": [
       "<Figure size 432x288 with 1 Axes>"
      ]
     },
     "metadata": {
      "needs_background": "light"
     },
     "output_type": "display_data"
    }
   ],
   "source": [
    "# Evaluate the model (validation)\n",
    "score = model.evaluate(x_v, y_v, batch_size=bsize, verbose=0)\n",
    "# Print performance\n",
    "print()\n",
    "print(\"Test loss (validation) =\", score)\n",
    "# Evaluate the model (comparison)\n",
    "score = model.evaluate(x_v, y_c, batch_size=bsize, verbose=0)\n",
    "# Print performance\n",
    "print()\n",
    "print(\"Test loss (comparison) =\", score)\n",
    "\n",
    "# Plot training and validation losses\n",
    "plt.plot(history.history[\"loss\"], color=\"cornflowerblue\")\n",
    "plt.plot(history.history[\"val_loss\"], color=\"sandybrown\")\n",
    "plt.title(\"Training & validation losses\")\n",
    "plt.xlabel(\"Epoch\")\n",
    "plt.ylabel(\"Loss\")\n",
    "plt.legend([\"Train\", \"Validation\"], loc=\"best\")\n",
    "plt.grid()\n",
    "plt.show()"
   ]
  },
  {
   "cell_type": "markdown",
   "id": "40c19a1c",
   "metadata": {},
   "source": [
    "### Predictions\n",
    "The result can be tested generating 100 points, and using the predict method of the trained model to estimate the value of the *y* according to the given *x*. The plot shows a very good agreement between the prediction and the defined straight line. This plot has been used a lot to determine the best optimizer and loss, in particular, the most difficult part to fit is $[0.75, 1)$, where the slope of the tangent line very small, in other words, where the function has very little variations."
   ]
  },
  {
   "cell_type": "code",
   "execution_count": 4,
   "id": "f9d293de",
   "metadata": {},
   "outputs": [
    {
     "data": {
      "image/png": "[encoded data removed]",
      "text/plain": [
       "<Figure size 432x288 with 1 Axes>"
      ]
     },
     "metadata": {
      "needs_background": "light"
     },
     "output_type": "display_data"
    }
   ],
   "source": [
    "# Let's predict some data\n",
    "x_p = np.random.uniform(-xlim, xlim, 100)\n",
    "y_p = model.predict(x_p)\n",
    "# Plot the predicted points & the comparison data\n",
    "plt.plot(x_v, y_c, color=\"cornflowerblue\")\n",
    "plt.scatter(x_p, y_p, color=\"indianred\")\n",
    "plt.title(\"Predicted data & analytic curve\")\n",
    "plt.legend([\"Analytic curve\", \"Predicted data\"], loc=0)\n",
    "plt.xlabel(\"x\")\n",
    "plt.ylabel(\"y\")\n",
    "plt.grid()\n",
    "plt.show()"
   ]
  },
  {
   "cell_type": "markdown",
   "id": "f01e61df",
   "metadata": {},
   "source": [
    "Another interisting test that can be made on the trained **DNN** is try to predict the ordinate of a point outside the training interval, for example one can see what is the prediction for $x = 2$, the expected result should be $f(2) = 14$.\n",
    "\n",
    "The plot above shows a good agreement between the analytic curve and the predicted data, while the prediction below is terrible, this fact is due to the characteristics of a Neural Network and its predictive power, which is strictly related to the training and validation data it has seen."
   ]
  },
  {
   "cell_type": "code",
   "execution_count": 5,
   "id": "7dbc13f3",
   "metadata": {},
   "outputs": [
    {
     "name": "stdout",
     "output_type": "stream",
     "text": [
      "Model = 14.0\n",
      "Prediction = 2.6264798641204834\n"
     ]
    }
   ],
   "source": [
    "print(\"Model =\", f(2.))\n",
    "print(\"Prediction =\", float(model.predict([2.])))"
   ]
  }
 ],
 "metadata": {
  "kernelspec": {
   "display_name": "Python 3 (ipykernel)",
   "language": "python",
   "name": "python3"
  },
  "language_info": {
   "codemirror_mode": {
    "name": "ipython",
    "version": 3
   },
   "file_extension": ".py",
   "mimetype": "text/x-python",
   "name": "python",
   "nbconvert_exporter": "python",
   "pygments_lexer": "ipython3",
   "version": "3.9.12"
  }
 },
 "nbformat": 4,
 "nbformat_minor": 5
}
