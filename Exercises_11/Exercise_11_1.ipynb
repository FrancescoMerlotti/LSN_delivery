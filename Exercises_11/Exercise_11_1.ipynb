{
 "cells": [
  {
   "cell_type": "markdown",
   "id": "c2d2c242",
   "metadata": {},
   "source": [
    "# Exercise 11.1\n",
    "\n",
    "### Introduction\n",
    "The purpose of this exercise is to start working with Neural Networks and, then learn how to work with Deep and Convolutional ones. In particular, this exercise focuses on comprehend how a single neuron works, indeed, it is characterized by a weight and a bias, such as straight line is complitely described by a slope (the weight) and an intercept (the bias), then the exercise consists of fitting some given set of data.\n",
    "\n",
    "### Dataset\n",
    "The set is made of 1050 points, their *x* is uniformly generated in $[-1, 1)$, while *y* is calculated using the following linear relation\n",
    "\n",
    "$$\n",
    "y = 2 x + 1\n",
    "$$\n",
    "\n",
    "In order to test the neuron structure is possible to apply some Gaussian noise onto the ordinates, with a certain $\\sigma$.\n",
    "\n",
    "1000 points compose the training set, and the other 50 points are the validation set.\n",
    "\n",
    "### Neural Network\n",
    "The neural network is sequential, made of a single neuron, thus it is characterized by only two parameters (the already described slope and bias), as optimizer has been chosen the **stochastic gradient descent**, and as loss measure has been chosen the **mean square error**.\n",
    "\n",
    "The network has been trained for 50 epochs, dividing the training set into batch of 20 elements each, and shuffling the set at the end of every epoch"
   ]
  },
  {
   "cell_type": "code",
   "execution_count": 1,
   "id": "cc39a4c8",
   "metadata": {},
   "outputs": [
    {
     "name": "stdout",
     "output_type": "stream",
     "text": [
      "Model: \"sequential\"\n",
      "_________________________________________________________________\n",
      "Layer (type)                 Output Shape              Param #   \n",
      "=================================================================\n",
      "dense (Dense)                (None, 1)                 2         \n",
      "=================================================================\n",
      "Total params: 2\n",
      "Trainable params: 2\n",
      "Non-trainable params: 0\n",
      "_________________________________________________________________\n"
     ]
    }
   ],
   "source": [
    "import numpy as np\n",
    "import matplotlib.pyplot as plt\n",
    "import tensorflow\n",
    "from tensorflow import keras\n",
    "\n",
    "from tensorflow.keras.models import Sequential\n",
    "from tensorflow.keras.layers import Dense, Activation\n",
    "\n",
    "# Linear fit\n",
    "# Linear fit parameters\n",
    "m = 2\n",
    "q = 1\n",
    "def linear(x):\n",
    "    return m * x + q\n",
    "\n",
    "# Generation of training and validation points\n",
    "np.random.seed(0)\n",
    "x_t = np.random.uniform(-1., 1., 1000)\n",
    "x_v = np.random.uniform(-1., 1., 50)\n",
    "x_v.sort()\n",
    "# Noise\n",
    "sigma = 0.2\n",
    "y_t = np.random.normal(linear(x_t), sigma)\n",
    "y_v = np.random.normal(linear(x_v), sigma)\n",
    "# Ideal linear function (for comparison)\n",
    "y_c = linear(x_v)\n",
    "\n",
    "# Neural network setup\n",
    "model = Sequential()\n",
    "model.add(Dense(1, input_shape=(1,)))\n",
    "# Neural network compile\n",
    "model.compile(optimizer=\"sgd\", loss=\"mse\")\n",
    "model.summary()"
   ]
  },
  {
   "cell_type": "code",
   "execution_count": 2,
   "id": "6231ef9e",
   "metadata": {},
   "outputs": [
    {
     "name": "stdout",
     "output_type": "stream",
     "text": [
      "Epoch 1/50\n",
      "50/50 [==============================] - 0s 3ms/step - loss: 0.5530 - val_loss: 0.2057\n",
      "Epoch 2/50\n",
      "50/50 [==============================] - 0s 898us/step - loss: 0.1348 - val_loss: 0.0810\n",
      "Epoch 3/50\n",
      "50/50 [==============================] - 0s 857us/step - loss: 0.0656 - val_loss: 0.0558\n",
      "Epoch 4/50\n",
      "50/50 [==============================] - 0s 918us/step - loss: 0.0492 - val_loss: 0.0465\n",
      "Epoch 5/50\n",
      "50/50 [==============================] - 0s 816us/step - loss: 0.0432 - val_loss: 0.0416\n",
      "Epoch 6/50\n",
      "50/50 [==============================] - 0s 776us/step - loss: 0.0405 - val_loss: 0.0387\n",
      "Epoch 7/50\n",
      "50/50 [==============================] - 0s 939us/step - loss: 0.0392 - val_loss: 0.0368\n",
      "Epoch 8/50\n",
      "50/50 [==============================] - 0s 735us/step - loss: 0.0385 - val_loss: 0.0356\n",
      "Epoch 9/50\n",
      "50/50 [==============================] - 0s 776us/step - loss: 0.0382 - val_loss: 0.0350\n",
      "Epoch 10/50\n",
      "50/50 [==============================] - 0s 735us/step - loss: 0.0380 - val_loss: 0.0346\n",
      "Epoch 11/50\n",
      "50/50 [==============================] - 0s 796us/step - loss: 0.0379 - val_loss: 0.0343\n",
      "Epoch 12/50\n",
      "50/50 [==============================] - 0s 755us/step - loss: 0.0379 - val_loss: 0.0341\n",
      "Epoch 13/50\n",
      "50/50 [==============================] - 0s 776us/step - loss: 0.0379 - val_loss: 0.0339\n",
      "Epoch 14/50\n",
      "50/50 [==============================] - 0s 898us/step - loss: 0.0379 - val_loss: 0.0339\n",
      "Epoch 15/50\n",
      "50/50 [==============================] - 0s 857us/step - loss: 0.0378 - val_loss: 0.0339\n",
      "Epoch 16/50\n",
      "50/50 [==============================] - 0s 1ms/step - loss: 0.0378 - val_loss: 0.0339\n",
      "Epoch 17/50\n",
      "50/50 [==============================] - 0s 898us/step - loss: 0.0378 - val_loss: 0.0339\n",
      "Epoch 18/50\n",
      "50/50 [==============================] - 0s 898us/step - loss: 0.0378 - val_loss: 0.0337\n",
      "Epoch 19/50\n",
      "50/50 [==============================] - 0s 837us/step - loss: 0.0378 - val_loss: 0.0335\n",
      "Epoch 20/50\n",
      "50/50 [==============================] - 0s 816us/step - loss: 0.0378 - val_loss: 0.0335\n",
      "Epoch 21/50\n",
      "50/50 [==============================] - 0s 796us/step - loss: 0.0378 - val_loss: 0.0337\n",
      "Epoch 22/50\n",
      "50/50 [==============================] - 0s 939us/step - loss: 0.0378 - val_loss: 0.0337\n",
      "Epoch 23/50\n",
      "50/50 [==============================] - 0s 816us/step - loss: 0.0378 - val_loss: 0.0336\n",
      "Epoch 24/50\n",
      "50/50 [==============================] - 0s 837us/step - loss: 0.0378 - val_loss: 0.0336\n",
      "Epoch 25/50\n",
      "50/50 [==============================] - 0s 898us/step - loss: 0.0378 - val_loss: 0.0336\n",
      "Epoch 26/50\n",
      "50/50 [==============================] - 0s 837us/step - loss: 0.0378 - val_loss: 0.0335\n",
      "Epoch 27/50\n",
      "50/50 [==============================] - 0s 939us/step - loss: 0.0378 - val_loss: 0.0335\n",
      "Epoch 28/50\n",
      "50/50 [==============================] - 0s 939us/step - loss: 0.0378 - val_loss: 0.0336\n",
      "Epoch 29/50\n",
      "50/50 [==============================] - 0s 857us/step - loss: 0.0378 - val_loss: 0.0336\n",
      "Epoch 30/50\n",
      "50/50 [==============================] - 0s 755us/step - loss: 0.0378 - val_loss: 0.0336\n",
      "Epoch 31/50\n",
      "50/50 [==============================] - 0s 878us/step - loss: 0.0378 - val_loss: 0.0336\n",
      "Epoch 32/50\n",
      "50/50 [==============================] - 0s 918us/step - loss: 0.0378 - val_loss: 0.0336\n",
      "Epoch 33/50\n",
      "50/50 [==============================] - 0s 939us/step - loss: 0.0378 - val_loss: 0.0336\n",
      "Epoch 34/50\n",
      "50/50 [==============================] - 0s 1000us/step - loss: 0.0378 - val_loss: 0.0337\n",
      "Epoch 35/50\n",
      "50/50 [==============================] - 0s 918us/step - loss: 0.0378 - val_loss: 0.0337\n",
      "Epoch 36/50\n",
      "50/50 [==============================] - 0s 918us/step - loss: 0.0378 - val_loss: 0.0338\n",
      "Epoch 37/50\n",
      "50/50 [==============================] - 0s 939us/step - loss: 0.0378 - val_loss: 0.0338\n",
      "Epoch 38/50\n",
      "50/50 [==============================] - 0s 1ms/step - loss: 0.0378 - val_loss: 0.0337\n",
      "Epoch 39/50\n",
      "50/50 [==============================] - 0s 918us/step - loss: 0.0378 - val_loss: 0.0337\n",
      "Epoch 40/50\n",
      "50/50 [==============================] - 0s 939us/step - loss: 0.0378 - val_loss: 0.0335\n",
      "Epoch 41/50\n",
      "50/50 [==============================] - 0s 939us/step - loss: 0.0378 - val_loss: 0.0336\n",
      "Epoch 42/50\n",
      "50/50 [==============================] - 0s 959us/step - loss: 0.0378 - val_loss: 0.0336\n",
      "Epoch 43/50\n",
      "50/50 [==============================] - 0s 939us/step - loss: 0.0378 - val_loss: 0.0336\n",
      "Epoch 44/50\n",
      "50/50 [==============================] - 0s 939us/step - loss: 0.0378 - val_loss: 0.0337\n",
      "Epoch 45/50\n",
      "50/50 [==============================] - 0s 959us/step - loss: 0.0378 - val_loss: 0.0338\n",
      "Epoch 46/50\n",
      "50/50 [==============================] - 0s 959us/step - loss: 0.0378 - val_loss: 0.0337\n",
      "Epoch 47/50\n",
      "50/50 [==============================] - 0s 939us/step - loss: 0.0378 - val_loss: 0.0337\n",
      "Epoch 48/50\n",
      "50/50 [==============================] - ETA: 0s - loss: 0.051 - 0s 918us/step - loss: 0.0378 - val_loss: 0.0337\n",
      "Epoch 49/50\n",
      "50/50 [==============================] - 0s 959us/step - loss: 0.0378 - val_loss: 0.0335\n",
      "Epoch 50/50\n",
      "50/50 [==============================] - 0s 959us/step - loss: 0.0378 - val_loss: 0.0337\n"
     ]
    }
   ],
   "source": [
    "# Fit the model (trainig dataset)\n",
    "# Fixing the fit parameters\n",
    "bsize = 20\n",
    "nepoc = 50\n",
    "history = model.fit(x=x_t, y=y_t, batch_size=bsize,\n",
    "                    epochs=nepoc, verbose=1, shuffle=True, validation_data=(x_v, y_v))"
   ]
  },
  {
   "cell_type": "markdown",
   "id": "ea10d5b4",
   "metadata": {},
   "source": [
    "### Results\n",
    "The results of fitted slope and intercet are shown below, the values are very similar to the fixed ones. \n",
    "\n",
    "The plot below shows the trend of the losses of the training and validation set in function of the epochs."
   ]
  },
  {
   "cell_type": "code",
   "execution_count": 3,
   "id": "2b98eabf",
   "metadata": {},
   "outputs": [
    {
     "name": "stdout",
     "output_type": "stream",
     "text": [
      "Fitted slope = 1.9923\n",
      "Fitted intercet = 1.0061\n",
      "\n",
      "Test loss (validation) = 0.033650897443294525\n",
      "\n",
      "Test loss (comparison) = 6.136280717328191e-05\n"
     ]
    },
    {
     "data": {
      "image/png": "[encoded data removed]",
      "text/plain": [
       "<Figure size 432x288 with 1 Axes>"
      ]
     },
     "metadata": {
      "needs_background": "light"
     },
     "output_type": "display_data"
    }
   ],
   "source": [
    "# Get the weights of the linear regression\n",
    "w = model.get_weights()\n",
    "# Print fitted parameters\n",
    "print(\"Fitted slope =\", round(float(w[0]), 4))\n",
    "print(\"Fitted intercet =\", round(float(w[1]), 4))\n",
    "\n",
    "# Evaluate the model (validation)\n",
    "score = model.evaluate(x_v, y_v, batch_size=bsize, verbose=0)\n",
    "# Print performance\n",
    "print()\n",
    "print(\"Test loss (validation) =\", score)\n",
    "# Evaluate the model (comparison)\n",
    "score = model.evaluate(x_v, y_c, batch_size=bsize, verbose=0)\n",
    "# Print performance\n",
    "print()\n",
    "print(\"Test loss (comparison) =\", score)\n",
    "\n",
    "# Plot training and validation losses\n",
    "plt.plot(history.history[\"loss\"], color=\"cornflowerblue\")\n",
    "plt.plot(history.history[\"val_loss\"], color=\"sandybrown\")\n",
    "plt.title(\"Training & validation losses\")\n",
    "plt.xlabel(\"Epoch\")\n",
    "plt.ylabel(\"Loss\")\n",
    "plt.legend([\"Train\", \"Validation\"], loc=\"best\")\n",
    "plt.grid()\n",
    "plt.show()"
   ]
  },
  {
   "cell_type": "markdown",
   "id": "86e8362a",
   "metadata": {},
   "source": [
    "### Predictions\n",
    "The result can be tested generating 100 points, and using the predict method of the trained model to estimate the value of the *y* according to the given *x*. The plot shows a very good agreement between the prediction and the defined straight line."
   ]
  },
  {
   "cell_type": "code",
   "execution_count": 4,
   "id": "7b05de49",
   "metadata": {},
   "outputs": [
    {
     "data": {
      "image/png": "[encoded data removed]",
      "text/plain": [
       "<Figure size 432x288 with 1 Axes>"
      ]
     },
     "metadata": {
      "needs_background": "light"
     },
     "output_type": "display_data"
    }
   ],
   "source": [
    "# Let's predict some data\n",
    "x_p = np.random.uniform(-1., 1., 100)\n",
    "y_p = model.predict(x_p)\n",
    "# Plot the predicted points & the comparison data\n",
    "plt.plot(x_v, y_c, color=\"cornflowerblue\")\n",
    "plt.scatter(x_p, y_p, color=\"indianred\")\n",
    "plt.title(\"Predicted data & analytic line\")\n",
    "plt.legend([\"Analytic line\", \"Predicted data\"], loc=0)\n",
    "plt.xlabel(\"x\")\n",
    "plt.ylabel(\"y\")\n",
    "plt.grid()\n",
    "plt.show()"
   ]
  }
 ],
 "metadata": {
  "kernelspec": {
   "display_name": "Python 3 (ipykernel)",
   "language": "python",
   "name": "python3"
  },
  "language_info": {
   "codemirror_mode": {
    "name": "ipython",
    "version": 3
   },
   "file_extension": ".py",
   "mimetype": "text/x-python",
   "name": "python",
   "nbconvert_exporter": "python",
   "pygments_lexer": "ipython3",
   "version": "3.9.12"
  }
 },
 "nbformat": 4,
 "nbformat_minor": 5
}
