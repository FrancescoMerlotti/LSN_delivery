{
 "cells": [
  {
   "cell_type": "markdown",
   "id": "f2aa9fc3",
   "metadata": {},
   "source": [
    "## Exercise 12.2\n",
    "\n",
    "This exercise consists of creating a Convolutional Neural Network (**CNN**) which is trained to recongize digits from 0 to 9 using the MNIST dataset, the same as **Exercise 12.1**.\n",
    "\n",
    "#### Neural Network architecture\n",
    "Starting from the advices given, I chose to use the following structure:\n",
    "1. the first **Convolutional2D** layer with 10 filters, a 5x5 pixels kernel and a ReLU activation function,\n",
    "2. the first **MaxPooling2D** layer with a 2x2 pixels pool size, and the stride $s = 2$,\n",
    "3. the second **Convolutional2D** layer with 20 filters, a 5x5 pixels kernel and a ReLU activation function,\n",
    "4. the second **MaxPooling2D** layer equal to the first one,\n",
    "5. a **Flatten** layer to feed the following **Dense** layer which needs an array as input,\n",
    "6. a **Dense** layer of 200 neurons, in order to increase representativeness, with actiovation function ReLU,\n",
    "6. a **Dropout** layer with drop rate of 50 %, to avoid the overfitting of the parameters, and prevent the DNN from learning the data,\n",
    "7. a final **Dense** layer with actiovation function Soft Max, which allows a categorical output.\n",
    "\n",
    "I decided to train the Network for at least 10 epochs, I also tried with 20 epochs and the results have improved significally. I used some bad written digits (*/dataEx2/5t.png* which is a tilted 5 and */dataEx2/5b.png* which is a bad written 5, very similiar to a 3) as benchmarks, after 10 epochs the **CNN** did not recognize the two digits, but after 20 epoch, the result is better, it will follow a better explenation below.\n",
    "\n",
    "#### Data reshape\n",
    "The given data are made of two arrays of 70000 components each, divided in traing (60000) and validation (10000). The first one is an array of 28 x 28 pixels images with white digits onto a black background, and the second one is an array of 60000 components containing the labels of the images.\n",
    "A reshape of both inputs is needed to perform a categorical training using a Deep Neural Network:\n",
    "* X reshape: in order to \"feed\" the **CNN**, each image contained in the data array needs to be reshaped onto itself, but it is important to know whether the convolutional layer accepts *channel first* or not, in this case the channel had to be at the end of the input array,\n",
    "* Y reshape: in order to train the Deep Neural Network to provide a categorical output, the labels need to be set to categorical in order to use categorical crossentropy as loss to train the Network."
   ]
  },
  {
   "cell_type": "code",
   "execution_count": 1,
   "id": "247f7de7",
   "metadata": {},
   "outputs": [],
   "source": [
    "import tensorflow as tf\n",
    "from tensorflow import keras\n",
    "from tensorflow.keras.datasets import mnist\n",
    "import numpy as np\n",
    "import matplotlib.pyplot as plt\n",
    "\n",
    "# setup random number generators\n",
    "seed = 0\n",
    "np.random.seed(seed)\n",
    "tf.random.set_seed(seed)\n",
    "\n",
    "# image properties\n",
    "img_x, img_y = 28, 28\n",
    "# number of categories\n",
    "num_class = 10"
   ]
  },
  {
   "cell_type": "code",
   "execution_count": 2,
   "id": "97c05a7e",
   "metadata": {},
   "outputs": [
    {
     "name": "stdout",
     "output_type": "stream",
     "text": [
      "Data loading\n",
      "x_t shape: (60000, 28, 28)\n",
      "y_t shape: (60000, 10)\n",
      "y_v shape: (10000, 10)\n"
     ]
    },
    {
     "data": {
      "image/png": "[encoded data removed]",
      "text/plain": [
       "<Figure size 360x360 with 1 Axes>"
      ]
     },
     "metadata": {
      "needs_background": "light"
     },
     "output_type": "display_data"
    }
   ],
   "source": [
    "# the data, split between train and test sets\n",
    "(x_t, y_t), (x_v, y_v) = mnist.load_data()\n",
    "print(\"Data loading\")\n",
    "print(\"x_t shape:\", x_t.shape)\n",
    "\n",
    "# convert class vectors to binary class matrices (to use categorical_crossentropy)\n",
    "y_t = tf.keras.utils.to_categorical(y_t, num_class)\n",
    "y_v = tf.keras.utils.to_categorical(y_v, num_class)\n",
    "print(\"y_t shape:\", y_t.shape)\n",
    "print(\"y_v shape:\", y_v.shape)\n",
    "\n",
    "# example of data\n",
    "fig, ax = plt.subplots(ncols = 1, figsize=[5, 5])\n",
    "ax.set_title(r\"Example of labelled datum (Label = \" + str(np.argmax(y_t[10])) + \")\")\n",
    "ax.matshow(x_t[10,:], cmap='binary')\n",
    "plt.show()"
   ]
  },
  {
   "cell_type": "code",
   "execution_count": 3,
   "id": "31a8e7a5",
   "metadata": {},
   "outputs": [
    {
     "name": "stdout",
     "output_type": "stream",
     "text": [
      "Input shape = (28, 28, 1)\n",
      "Model created successfully\n"
     ]
    }
   ],
   "source": [
    "# Setting up neural network\n",
    "from tensorflow.keras.models import Sequential\n",
    "from tensorflow.keras.layers import Flatten, Dense, Dropout, Conv2D, MaxPooling2D\n",
    "\n",
    "# reshape data, depending on Keras backend\n",
    "if tf.keras.backend.image_data_format() == 'channels_first':\n",
    "    x_t = x_t.reshape(x_t.shape[0], 1, img_x, img_y)\n",
    "    x_v = x_v.reshape(x_v.shape[0], 1, img_x, img_y)\n",
    "    input_shape = (1, img_x, img_y)\n",
    "    print(\"Input shape = \" + str(input_shape))\n",
    "    \n",
    "else:\n",
    "    x_t = x_t.reshape(x_t.shape[0], img_x, img_y, 1)\n",
    "    x_v = x_v.reshape(x_v.shape[0], img_x, img_y, 1)\n",
    "    input_shape = (img_x, img_y, 1)\n",
    "    print(\"Input shape = \" + str(input_shape))\n",
    "\n",
    "def CreateCNN():\n",
    "    # model\n",
    "    model = Sequential()\n",
    "    # convolutional 2D layer\n",
    "    model.add(Conv2D(10, kernel_size=(5, 5), activation='relu', input_shape=input_shape))\n",
    "    # max pooling layer\n",
    "    model.add(MaxPooling2D(2, 2))\n",
    "    # convolutional 2D layer\n",
    "    model.add(Conv2D(20, kernel_size=(5, 5), activation='relu', input_shape=input_shape))\n",
    "    # max pooling layer\n",
    "    model.add(MaxPooling2D(2, 2))\n",
    "    # dense layer\n",
    "    model.add(Flatten())\n",
    "    # dense layer\n",
    "    model.add(Dense(200, activation=\"relu\"))\n",
    "    # dropout layer\n",
    "    model.add(Dropout(0.5))\n",
    "    # softmax layer (categorical)\n",
    "    model.add(Dense(num_class, activation=\"softmax\"))\n",
    "    return model\n",
    "\n",
    "print(\"Model created successfully\")"
   ]
  },
  {
   "cell_type": "code",
   "execution_count": 11,
   "id": "2ddde828",
   "metadata": {},
   "outputs": [
    {
     "name": "stdout",
     "output_type": "stream",
     "text": [
      "Model compiled successfully\n"
     ]
    }
   ],
   "source": [
    "from tensorflow.keras.optimizers import SGD, Adam, RMSprop, Adagrad, Adadelta, Adamax, Nadam\n",
    "\n",
    "def CompileModel():\n",
    "    # create the model\n",
    "    model = CreateCNN()\n",
    "    # compile the model\n",
    "    model.compile(loss = tf.keras.losses.categorical_crossentropy,\n",
    "                  optimizer = Adam(), metrics=[\"acc\"])\n",
    "    return model\n",
    "\n",
    "print(\"Model compiled successfully\")"
   ]
  },
  {
   "cell_type": "code",
   "execution_count": 12,
   "id": "b21b253a",
   "metadata": {},
   "outputs": [
    {
     "name": "stdout",
     "output_type": "stream",
     "text": [
      "Model: \"sequential_1\"\n",
      "_________________________________________________________________\n",
      "Layer (type)                 Output Shape              Param #   \n",
      "=================================================================\n",
      "conv2d_2 (Conv2D)            (None, 24, 24, 10)        260       \n",
      "_________________________________________________________________\n",
      "max_pooling2d_2 (MaxPooling2 (None, 12, 12, 10)        0         \n",
      "_________________________________________________________________\n",
      "conv2d_3 (Conv2D)            (None, 8, 8, 20)          5020      \n",
      "_________________________________________________________________\n",
      "max_pooling2d_3 (MaxPooling2 (None, 4, 4, 20)          0         \n",
      "_________________________________________________________________\n",
      "flatten_1 (Flatten)          (None, 320)               0         \n",
      "_________________________________________________________________\n",
      "dense_2 (Dense)              (None, 200)               64200     \n",
      "_________________________________________________________________\n",
      "dropout_1 (Dropout)          (None, 200)               0         \n",
      "_________________________________________________________________\n",
      "dense_3 (Dense)              (None, 10)                2010      \n",
      "=================================================================\n",
      "Total params: 71,490\n",
      "Trainable params: 71,490\n",
      "Non-trainable params: 0\n",
      "_________________________________________________________________\n",
      "Epoch 1/20\n",
      "1000/1000 [==============================] - 5s 5ms/step - loss: 0.8522 - acc: 0.8584 - val_loss: 0.1005 - val_acc: 0.9696\n",
      "Epoch 2/20\n",
      "1000/1000 [==============================] - 5s 5ms/step - loss: 0.1404 - acc: 0.9587 - val_loss: 0.0680 - val_acc: 0.9793\n",
      "Epoch 3/20\n",
      "1000/1000 [==============================] - 5s 5ms/step - loss: 0.1057 - acc: 0.9693 - val_loss: 0.0526 - val_acc: 0.9849\n",
      "Epoch 4/20\n",
      "1000/1000 [==============================] - 9s 9ms/step - loss: 0.0877 - acc: 0.9747 - val_loss: 0.0494 - val_acc: 0.9847\n",
      "Epoch 5/20\n",
      "1000/1000 [==============================] - 9s 9ms/step - loss: 0.0738 - acc: 0.9783 - val_loss: 0.0428 - val_acc: 0.9876\n",
      "Epoch 6/20\n",
      "1000/1000 [==============================] - 5s 5ms/step - loss: 0.0703 - acc: 0.9782 - val_loss: 0.0505 - val_acc: 0.9858\n",
      "Epoch 7/20\n",
      "1000/1000 [==============================] - 4s 4ms/step - loss: 0.0655 - acc: 0.9809 - val_loss: 0.0604 - val_acc: 0.9845\n",
      "Epoch 8/20\n",
      "1000/1000 [==============================] - 5s 5ms/step - loss: 0.0583 - acc: 0.9830 - val_loss: 0.0455 - val_acc: 0.9880\n",
      "Epoch 9/20\n",
      "1000/1000 [==============================] - 4s 4ms/step - loss: 0.0587 - acc: 0.9834 - val_loss: 0.0428 - val_acc: 0.9858\n",
      "Epoch 10/20\n",
      "1000/1000 [==============================] - 5s 5ms/step - loss: 0.0571 - acc: 0.9836 - val_loss: 0.0435 - val_acc: 0.9882\n",
      "Epoch 11/20\n",
      "1000/1000 [==============================] - 4s 4ms/step - loss: 0.0539 - acc: 0.9846 - val_loss: 0.0462 - val_acc: 0.9879\n",
      "Epoch 12/20\n",
      "1000/1000 [==============================] - 5s 5ms/step - loss: 0.0481 - acc: 0.9864 - val_loss: 0.0585 - val_acc: 0.9847\n",
      "Epoch 13/20\n",
      "1000/1000 [==============================] - 5s 5ms/step - loss: 0.0558 - acc: 0.9848 - val_loss: 0.0498 - val_acc: 0.9867\n",
      "Epoch 14/20\n",
      "1000/1000 [==============================] - 6s 6ms/step - loss: 0.0476 - acc: 0.9861 - val_loss: 0.0465 - val_acc: 0.9880\n",
      "Epoch 15/20\n",
      "1000/1000 [==============================] - 5s 5ms/step - loss: 0.0458 - acc: 0.9869 - val_loss: 0.0499 - val_acc: 0.9871\n",
      "Epoch 16/20\n",
      "1000/1000 [==============================] - 4s 4ms/step - loss: 0.0452 - acc: 0.9878 - val_loss: 0.0635 - val_acc: 0.9852\n",
      "Epoch 17/20\n",
      "1000/1000 [==============================] - 5s 5ms/step - loss: 0.0454 - acc: 0.9875 - val_loss: 0.0444 - val_acc: 0.9891\n",
      "Epoch 18/20\n",
      "1000/1000 [==============================] - 5s 5ms/step - loss: 0.0460 - acc: 0.9870 - val_loss: 0.0535 - val_acc: 0.9878\n",
      "Epoch 19/20\n",
      "1000/1000 [==============================] - 5s 5ms/step - loss: 0.0410 - acc: 0.9884 - val_loss: 0.0491 - val_acc: 0.9883\n",
      "Epoch 20/20\n",
      "1000/1000 [==============================] - 5s 5ms/step - loss: 0.0435 - acc: 0.9881 - val_loss: 0.0478 - val_acc: 0.9888\n"
     ]
    }
   ],
   "source": [
    "# training parameters\n",
    "bsize = 60\n",
    "nepoc = 20\n",
    "\n",
    "model_CNN = CompileModel()\n",
    "model_CNN.summary()\n",
    "\n",
    "# train model\n",
    "history = model_CNN.fit(x_t, y_t, batch_size = bsize,\n",
    "                        epochs = nepoc, validation_data=(x_v, y_v), shuffle=True)"
   ]
  },
  {
   "cell_type": "markdown",
   "id": "2508963a",
   "metadata": {},
   "source": [
    "The following two plots represent the loss and the accuracy of the trained **CNN**, the trend of both training and validation ones are fine, in particular the validation loss and accuracy are immediately very good, in other words loss is very low and accuracy is circa 1, already in the first few epochs. Then, while the training metrics grows sharply, the validation metrics increase very slowly, in the end training and validation metrics are pretty much the same."
   ]
  },
  {
   "cell_type": "code",
   "execution_count": 13,
   "id": "4b957304",
   "metadata": {},
   "outputs": [
    {
     "name": "stdout",
     "output_type": "stream",
     "text": [
      "313/313 [==============================] - 0s 1ms/step - loss: 0.0478 - acc: 0.9888\n",
      "\n",
      "Test loss = [0.047816626727581024, 0.9887999892234802]\n"
     ]
    },
    {
     "data": {
      "image/png": "[encoded data removed]",
      "text/plain": [
       "<Figure size 720x360 with 2 Axes>"
      ]
     },
     "metadata": {
      "needs_background": "light"
     },
     "output_type": "display_data"
    }
   ],
   "source": [
    "# model evaluation\n",
    "score = model_CNN.evaluate(x_v, y_v)\n",
    "\n",
    "# print performance\n",
    "print()\n",
    "print(\"Test loss =\", score)\n",
    "\n",
    "fig = plt.figure(figsize=[10, 5])\n",
    "\n",
    "# summarize history for loss\n",
    "fig.add_subplot(1, 2, 1)\n",
    "plt.title(\"Model loss\")\n",
    "plt.ylabel(\"Loss\")\n",
    "plt.xlabel(\"Epoch\")\n",
    "plt.plot(history.history[\"loss\"], color=\"cornflowerblue\")\n",
    "plt.plot(history.history[\"val_loss\"], color=\"sandybrown\")\n",
    "plt.legend([\"Train\", \"Validation\"], loc=\"best\")\n",
    "plt.grid()\n",
    "# summarize history for accuracy\n",
    "fig.add_subplot(1, 2, 2)\n",
    "plt.title(\"Model accuracy\")\n",
    "plt.ylabel(\"Accuracy\")\n",
    "plt.xlabel(\"Epoch\")\n",
    "plt.plot(history.history[\"acc\"], color=\"cornflowerblue\")\n",
    "plt.plot(history.history[\"val_acc\"], color=\"sandybrown\")\n",
    "plt.legend([\"Train\", \"Validation\"], loc=\"best\")\n",
    "plt.grid()\n",
    "\n",
    "plt.show()"
   ]
  },
  {
   "cell_type": "markdown",
   "id": "e344e041",
   "metadata": {},
   "source": [
    "### Digit recognition\n",
    "\n",
    "The image plot below represents the input data and it's title contains the prediction made using the model.\n",
    "\n",
    "The scatter plot below represents the output of the final **Dense** layer of the **CNN** with the softmax activation function, which can be interpreted as the \"recognition probabiltity\" of the digit by the model, the predicted digit is the one with the hishest probability.\n",
    "\n",
    "Note 1: the most expressive test is the one that involves */dataEx2/5b.png*, indeed, the digit as comparable probabilities to be a 3 or a 5, expressing the same problem shown in **Exercise 12.1**, \\\n",
    "Note 2: trainig the **CNN** for 10 epochs did not allow to recognize tilted digits, but increasing the training epochs to 20 allowed to predict the correct result for a tilted digit (*/dataEx2/5t.png*)."
   ]
  },
  {
   "cell_type": "code",
   "execution_count": 16,
   "id": "ee96001c",
   "metadata": {},
   "outputs": [
    {
     "data": {
      "image/png": "[encoded data removed]",
      "text/plain": [
       "<Figure size 720x360 with 2 Axes>"
      ]
     },
     "metadata": {
      "needs_background": "light"
     },
     "output_type": "display_data"
    }
   ],
   "source": [
    "from PIL import Image\n",
    "import matplotlib.image as image\n",
    "\n",
    "digit_filename = \"./dataEx2/5t.png\"\n",
    "digit_in = Image.open(digit_filename).convert('L')\n",
    "\n",
    "pix = digit_in.load();\n",
    "data = np.zeros([img_x, img_y])\n",
    "for j in range(img_y):\n",
    "    for i in range(img_x):\n",
    "        data[i,j]=pix[j,i]\n",
    "\n",
    "\n",
    "# reshape data & prediction\n",
    "data = data.reshape(1, img_x, img_y, 1)\n",
    "pred = model_CNN.predict(data)\n",
    "\n",
    "# plot\n",
    "# reshape to be plotted (imshow)\n",
    "data = data.reshape(img_x, img_y)\n",
    "fig = plt.figure(figsize=[10, 5])\n",
    "# digit plot\n",
    "plt.subplot(1, 2, 1)\n",
    "plt.title(\"Digit predicted: {}\".format(np.argmax(pred)))\n",
    "plt.imshow(data, cmap='gray')    \n",
    "plt.axis(\"off\")\n",
    "# probability plot\n",
    "plt.subplot(1, 2, 2)\n",
    "plt.scatter(np.arange(10), pred)\n",
    "plt.title(\"Digit recognition probability\")\n",
    "plt.xlabel(\"Digit\")\n",
    "plt.ylabel(\"Probability\")\n",
    "plt.grid()\n",
    "plt.show()"
   ]
  },
  {
   "cell_type": "code",
   "execution_count": 8,
   "id": "1f3632a1",
   "metadata": {},
   "outputs": [
    {
     "name": "stdout",
     "output_type": "stream",
     "text": [
      "0 conv2d\n",
      "1 max_pooling2d\n",
      "2 conv2d_1\n",
      "3 max_pooling2d_1\n",
      "4 flatten\n",
      "5 dense\n",
      "6 dropout\n",
      "7 dense_1\n"
     ]
    }
   ],
   "source": [
    "layer_index=0\n",
    "for layer in model_CNN.layers:\n",
    "    print(layer_index, layer.name)\n",
    "    layer_index+=1"
   ]
  },
  {
   "cell_type": "code",
   "execution_count": 9,
   "id": "6b1d6f77",
   "metadata": {},
   "outputs": [
    {
     "name": "stdout",
     "output_type": "stream",
     "text": [
      "(5, 5, 1, 10)\n"
     ]
    },
    {
     "data": {
      "image/png": "[encoded data removed]",
      "text/plain": [
       "<Figure size 432x288 with 10 Axes>"
      ]
     },
     "metadata": {},
     "output_type": "display_data"
    }
   ],
   "source": [
    "# layer_index should be the index of a convolutional layer\n",
    "layer_index=0\n",
    "# retrieve weights from the convolutional hidden layer\n",
    "filters, biases = model_CNN.layers[layer_index].get_weights()\n",
    "# normalize filter values to 0-1 so we can visualize them\n",
    "f_min, f_max = filters.min(), filters.max()\n",
    "filters = (filters - f_min) / (f_max - f_min)\n",
    "print(filters.shape)\n",
    "\n",
    "# plot filters\n",
    "n_filters, ix = filters.shape[3], 1\n",
    "for i in range(n_filters):\n",
    "    # get the filter\n",
    "    f = filters[:, :, :, i]\n",
    "    # specify subplot and turn of axis\n",
    "    ax = plt.subplot(1,n_filters, ix)\n",
    "    ax.set_xticks([])\n",
    "    ax.set_yticks([])\n",
    "    # plot filter channel in grayscale\n",
    "    plt.imshow(f[:, :, 0], cmap='gray')\n",
    "    ix += 1\n",
    "# show the figure\n",
    "plt.show()"
   ]
  }
 ],
 "metadata": {
  "kernelspec": {
   "display_name": "Python 3 (ipykernel)",
   "language": "python",
   "name": "python3"
  },
  "language_info": {
   "codemirror_mode": {
    "name": "ipython",
    "version": 3
   },
   "file_extension": ".py",
   "mimetype": "text/x-python",
   "name": "python",
   "nbconvert_exporter": "python",
   "pygments_lexer": "ipython3",
   "version": "3.9.12"
  }
 },
 "nbformat": 4,
 "nbformat_minor": 5
}
